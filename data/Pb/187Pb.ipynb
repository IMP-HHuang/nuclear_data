{
 "cells": [
  {
   "cell_type": "markdown",
   "metadata": {},
   "source": [
    "# $$^{187}Pb$$"
   ]
  },
  {
   "cell_type": "markdown",
   "metadata": {},
   "source": [
    "# NNDC"
   ]
  },
  {
   "cell_type": "markdown",
   "metadata": {},
   "source": [
    "<font size=4 face=\"微软雅黑\" >\n",
    "  \n",
    "   - [$\\gamma$ decay](../../paper/187Pbd3.pdf)\n",
    "   <img src=\"../../fig/187PbgNNDC.png\" width=\"50%\" height=\"50%\">\n",
    "   - $\\alpha$ decay\n",
    "       - [isomer($13/2^{+}$)](../../paper/187Pbd1.pdf)\n",
    "       <img src=\"../../fig/187Pbi.png\" width=\"50%\" height=\"50%\">\n",
    "       - [ground](../../paper/187pbd2.pdf) \n",
    "       <img src=\"../../fig/187Pbg.png\" width=\"50%\" height=\"50%\">"
   ]
  },
  {
   "cell_type": "markdown",
   "metadata": {},
   "source": [
    "# 1. [discover](../../paper/187Pb3.pdf)"
   ]
  },
  {
   "cell_type": "markdown",
   "metadata": {},
   "source": [
    "<font size=4 face=\"微软雅黑\" >\n",
    "    \n",
    "   - 1.date\n",
    "       - 10 July 1972(He jet technique)\n",
    "   - 2.channel\n",
    "       - $^{155}Gd(^{40}Ar,xn)$(302~500MeV)\n",
    "   - 3.result\n",
    "       - $E_{\\alpha} = 6.08(1) MeV$\n",
    "       - $T_{1/2} = 17.5(36) s$\n",
    "</font>"
   ]
  },
  {
   "cell_type": "markdown",
   "metadata": {},
   "source": [
    "# 2. [re-study](../../paper/187Pb2.pdf)"
   ]
  },
  {
   "cell_type": "markdown",
   "metadata": {},
   "source": [
    "<font size=4 face=\"微软雅黑\" >\n",
    "    \n",
    "   - 1.date\n",
    "       - 15 July 1973(He jet technique)\n",
    "   - 2.channel\n",
    "       - $^{180}W(^{16}O,xn)$\n",
    "   - 3.result\n",
    "       - $E_{\\alpha} = 6.08(2) MeV$\n",
    "       - $T_{1/2} = 17(4) s$\n",
    "</font>"
   ]
  },
  {
   "cell_type": "markdown",
   "metadata": {},
   "source": [
    "# 3. [re-study](../paper/187Pb4.pdf)"
   ]
  },
  {
   "cell_type": "markdown",
   "metadata": {},
   "source": [
    "<font size=4 face=\"微软雅黑\" >\n",
    "    \n",
    "   - 1.date\n",
    "       - 16 December 1974(He jet technique)\n",
    "   - 2.channel\n",
    "       - $^{150}Sm(^{40}Ca,3n)$\n",
    "   - 3.result\n",
    "       - s1(73%)\n",
    "           - $E_{\\alpha} = 6.08(1) MeV$\n",
    "           - $T_{1/2} = 17.5(36) s$\n",
    "       - s2(27%)\n",
    "           - $E_{\\alpha} = 6.19(1) MeV$\n",
    "</font>"
   ]
  },
  {
   "cell_type": "markdown",
   "metadata": {},
   "source": [
    "# 4. [re-study](../../paper/187Pb1.pdf)"
   ]
  },
  {
   "cell_type": "markdown",
   "metadata": {},
   "source": [
    "<font size=4 face=\"微软雅黑\" >\n",
    "    \n",
    "   - 1.date\n",
    "       - 14 April 1981\n",
    "   - 2.Experiment\n",
    "       - 235 MeV 、 30 pnA $^{48}Ti$\n",
    "       - $\\gamma$、$X$：Ge(Li) detector、intrinisic Ge detector\n",
    "       - $\\alpha$: $450mm^2 \\times 100 \\mu m$  silicon surface-barrier(SB) detector\n",
    "       - UNILAC at GSI\n",
    "       - mass separator\n",
    "   <img src=\"../../fig/detector.png\" width=\"50%\" height=\"50%\">\n",
    "   - 3.channel\n",
    "       - $^{142}Nd(^{48}Ti,3n)$\n",
    "   - 4.result\n",
    "       - $\\gamma$ spectrum recodered from  mass-separated A=187\n",
    "       <img src=\"../../fig/187Pbgs.png\" width=\"70%\" height=\"70%\">\n",
    "       - $\\beta ^{+}$ decay\n",
    "           - $\\gamma$ spectrum comcidence with X ray of $^{187}Tl$\n",
    "       <img src=\"../../fig/187Pbgx.png\" width=\"70%\" height=\"70%\">\n",
    "           - scheme\n",
    "        <img src=\"../../fig/187PbB.png\" width=\"70%\" height=\"70%\">   \n",
    "       - $\\alpha$ decay\n",
    "   <img src=\"../../fig/187Pbd.png\" width=\"50%\" height=\"50%\">\n",
    "   \n",
    "           - s1(64.0(25)%)\n",
    "               - $E_{\\alpha} = 6.073(10) MeV$\n",
    "               - $T_{1/2} = 18.3(3) s$\n",
    "           - s2(14.5(10)%)\n",
    "               - $E_{\\alpha} = 5.993(10) MeV$\n",
    "               - $T_{1/2} = 15.1(4) s$\n",
    "           - s2(21.5(15)%)\n",
    "               - $E_{\\alpha} = 6.194(10) MeV$\n",
    "               - $T_{1/2} = 15.3(3) s$\n",
    "    <img src=\"../../fig/187Pb11.png\" width=\"70%\" height=\"70%\">\n",
    "</font>"
   ]
  },
  {
   "cell_type": "markdown",
   "metadata": {},
   "source": [
    "# 5. [re-study](../../paper/187Pbg1.pdf)"
   ]
  },
  {
   "cell_type": "markdown",
   "metadata": {},
   "source": [
    "<font size=4 face=\"微软雅黑\" >\n",
    "    \n",
    "   - 1.date\n",
    "       - 2 July 1998\n",
    "   - 2.Experiment\n",
    "       - 1st\n",
    "           - 174 MeV $^{36}Ar$\n",
    "           - ATLAS linear accelerator\n",
    "           - fragment mass analyzer (FMA)\n",
    "           - UNILAC at GSI\n",
    "       - 2nd\n",
    "           - K=130 cyclotron at the Accelerator Laboratory of the University of Jyvaskyla \n",
    "           - RITU\n",
    "   - 3.channel\n",
    "       - $^{155}Gd(^{36}Ar,4n)$\n",
    "   - 4.result\n",
    "       - projection on the $E_{\\gamma}$ axis\n",
    "           - a: $X_{MWPC}$ vs $E_{\\gamma}$ matrix with gates on mass-187(FMA)\n",
    "           - b: $\\gamma - \\gamma$ (RITU)\n",
    "       <img src=\"../../fig/187pbgg.png\" width=\"50%\" height=\"50%\">\n",
    "       \n",
    "      - projection on the $X_{MWPC}$(FMA)\n",
    "       <img src=\"../../fig/187PbMWPC.png\" width=\"50%\" height=\"50%\">\n",
    "      - projection with a gate\n",
    "      <img src=\"../../fig/187PbY.png\" width=\"50%\" height=\"50%\">\n",
    "</font>"
   ]
  },
  {
   "cell_type": "markdown",
   "metadata": {},
   "source": [
    "# 6. [re-study](../../paper/187Pb5.pdf)"
   ]
  },
  {
   "cell_type": "markdown",
   "metadata": {},
   "source": [
    "<font size=4 face=\"微软雅黑\" >\n",
    "    \n",
    "   - 1.date\n",
    "       - 12 March 2001\n",
    "   - 2.Experiment\n",
    "       - K = 130 Accelerator Laboratory of the University of Jyvaskyla \n",
    "       - RITU\n",
    "       - 236(1) MeV 12 pnA $^{52}Cr$\n",
    "       - PSSD\n",
    "   - 3.channel\n",
    "       - $^{142}Nd(^{52}Cr,3n)Po-\\alpha->^{187}Pb$\n",
    "   - 4.result\n",
    "       - Energy spectrum of the $\\alpha$ particles\n",
    "       <img src=\"../../fig/191Poa.png\" width=\"50%\" height=\"50%\">\n",
    "       - Prompt $\\Delta T(\\alpha-\\gamma)$ < 100ns concidence matrix\n",
    "       <img src=\"../../fig/191Poagm.png\" width=\"50%\" height=\"50%\">\n",
    "       - Fine structure of $^{191}Po$\n",
    "       <img src=\"../../fig/187Pbag.png\" width=\"50%\" height=\"50%\">\n",
    "</font>"
   ]
  }
 ],
 "metadata": {
  "kernelspec": {
   "display_name": "ROOT C++",
   "language": "c++",
   "name": "root"
  },
  "language_info": {
   "codemirror_mode": "text/x-c++src",
   "file_extension": ".C",
   "mimetype": " text/x-c++src",
   "name": "c++"
  }
 },
 "nbformat": 4,
 "nbformat_minor": 2
}
